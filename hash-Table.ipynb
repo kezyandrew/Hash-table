{
 "cells": [
  {
   "cell_type": "markdown",
   "metadata": {},
   "source": [
    "# hash table "
   ]
  },
  {
   "cell_type": "code",
   "execution_count": 31,
   "metadata": {},
   "outputs": [
    {
     "name": "stdout",
     "output_type": "stream",
     "text": [
      "[None, None, None, None, None, None, None, None, None, None]\n"
     ]
    }
   ],
   "source": [
    "# creating an empty hash table \n",
    "table=[None]*10\n",
    "print (table)"
   ]
  },
  {
   "cell_type": "code",
   "execution_count": 32,
   "metadata": {},
   "outputs": [
    {
     "name": "stdout",
     "output_type": "stream",
     "text": [
      "0\n",
      "1\n",
      "2\n",
      "3\n",
      "4\n",
      "5\n",
      "6\n"
     ]
    }
   ],
   "source": [
    "# creating a hash function\n",
    "def hash_function(key):\n",
    "    hash_value= key%len(table)\n",
    "    return hash_value\n",
    "print(hash_function(20))\n",
    "print (hash_function(21))\n",
    "print (hash_function(22))\n",
    "print (hash_function(23))\n",
    "print (hash_function(24))\n",
    "print (hash_function(25))\n",
    "print (hash_function(26))"
   ]
  },
  {
   "cell_type": "code",
   "execution_count": 33,
   "metadata": {},
   "outputs": [
    {
     "name": "stdout",
     "output_type": "stream",
     "text": [
      "['Andrew', 'Jonah', 'Musa', 'Walter', 'Grace', 'Elijah', 'Denise', None, None, None]\n"
     ]
    }
   ],
   "source": [
    "# inserting data into the empty hash table\n",
    "def fill_hash_table(table,key,value):\n",
    "    hash_value=hash_function(key)\n",
    "    table[hash_value]=value\n",
    "\n",
    "fill_hash_table(table,20,\"Andrew\")\n",
    "fill_hash_table(table,21,\"Jonah\")\n",
    "fill_hash_table(table,22,\"Musa\")\n",
    "fill_hash_table(table,23,\"Walter\")\n",
    "fill_hash_table(table,24,\"Grace\")\n",
    "fill_hash_table(table,25,\"Elijah\")\n",
    "fill_hash_table(table,26,\"Denise\")\n",
    "print(table)"
   ]
  },
  {
   "cell_type": "code",
   "execution_count": 34,
   "metadata": {},
   "outputs": [
    {
     "name": "stdout",
     "output_type": "stream",
     "text": [
      "['kaweesa', 'Jonah', 'Musa', 'Walter', 'Grace', 'Elijah', 'Denise', None, None, None]\n"
     ]
    }
   ],
   "source": [
    "# if I  insert another value with the same chain value\n",
    "fill_hash_table(table,20,\"kaweesa\")\n",
    "print(table)\n"
   ]
  },
  {
   "cell_type": "markdown",
   "metadata": {},
   "source": [
    "# hash table using chaining"
   ]
  },
  {
   "cell_type": "code",
   "execution_count": 35,
   "metadata": {},
   "outputs": [
    {
     "name": "stdout",
     "output_type": "stream",
     "text": [
      "[[], [], [], [], [], [], [], [], [], []]\n"
     ]
    }
   ],
   "source": [
    "# creatiing a table with chaining \n",
    "chain_table =[[]for value in range(10)]\n",
    "print(chain_table)"
   ]
  },
  {
   "cell_type": "code",
   "execution_count": 36,
   "metadata": {},
   "outputs": [
    {
     "name": "stdout",
     "output_type": "stream",
     "text": [
      "0\n",
      "1\n",
      "2\n",
      "3\n",
      "4\n",
      "5\n",
      "6\n"
     ]
    }
   ],
   "source": [
    "# creating a hash function \n",
    "def hash_function(key):\n",
    "    hash_value= key%len(chain_table)\n",
    "    return hash_value\n",
    "\n",
    "print (hash_function(30))\n",
    "print (hash_function(31))\n",
    "print (hash_function(32))\n",
    "print (hash_function(33))\n",
    "print (hash_function(34))\n",
    "print (hash_function(35))\n",
    "print (hash_function(36))"
   ]
  },
  {
   "cell_type": "code",
   "execution_count": 38,
   "metadata": {},
   "outputs": [
    {
     "name": "stdout",
     "output_type": "stream",
     "text": [
      "[['Andrew'], ['Jonah'], ['Musa'], ['Walter'], ['Grace'], ['Elijah'], ['Denise'], [], [], []]\n"
     ]
    }
   ],
   "source": [
    "# inserting values to my chain_table\n",
    "def fill_chain_table(chain_table,key,value):\n",
    "    hash_value=hash_function(key)\n",
    "    chain_table[hash_value].append(value)\n",
    "\n",
    "fill_chain_table(chain_table,30,\"Andrew\")\n",
    "fill_chain_table(chain_table,31,\"Jonah\")\n",
    "fill_chain_table(chain_table,32,\"Musa\")\n",
    "fill_chain_table(chain_table,33,\"Walter\")\n",
    "fill_chain_table(chain_table,34,\"Grace\")\n",
    "fill_chain_table(chain_table,35,\"Elijah\")\n",
    "fill_chain_table(chain_table,36,\"Denise\")\n",
    "\n",
    "print(chain_table)\n"
   ]
  },
  {
   "cell_type": "code",
   "execution_count": 39,
   "metadata": {},
   "outputs": [
    {
     "name": "stdout",
     "output_type": "stream",
     "text": [
      "[['Andrew', 'kaweesa'], ['Jonah'], ['Musa'], ['Walter'], ['Grace'], ['Elijah'], ['Denise'], [], [], []]\n"
     ]
    }
   ],
   "source": [
    "# if I insert another value with the same chain value it behaves different from the first table\n",
    "fill_chain_table(chain_table,40,\"kaweesa\")\n",
    "print (chain_table)"
   ]
  },
  {
   "cell_type": "code",
   "execution_count": null,
   "metadata": {},
   "outputs": [],
   "source": []
  }
 ],
 "metadata": {
  "kernelspec": {
   "display_name": "Python 3",
   "language": "python",
   "name": "python3"
  },
  "language_info": {
   "codemirror_mode": {
    "name": "ipython",
    "version": 3
   },
   "file_extension": ".py",
   "mimetype": "text/x-python",
   "name": "python",
   "nbconvert_exporter": "python",
   "pygments_lexer": "ipython3",
   "version": "3.7.3"
  }
 },
 "nbformat": 4,
 "nbformat_minor": 2
}
